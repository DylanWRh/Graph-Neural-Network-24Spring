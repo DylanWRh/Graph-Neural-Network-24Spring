{
 "cells": [
  {
   "cell_type": "code",
   "execution_count": 1,
   "metadata": {},
   "outputs": [
    {
     "name": "stderr",
     "output_type": "stream",
     "text": [
      "e:\\Anaconda3\\envs\\gomoku\\lib\\site-packages\\requests\\__init__.py:104: RequestsDependencyWarning: urllib3 (1.26.14) or chardet (5.2.0)/charset_normalizer (2.0.4) doesn't match a supported version!\n",
      "  RequestsDependencyWarning)\n"
     ]
    }
   ],
   "source": [
    "import torch\n",
    "import torch.nn as nn\n",
    "import torch.optim as optim \n",
    "import numpy as np\n",
    "import networkx as nx\n",
    "import random\n",
    "from tqdm import tqdm\n",
    "from sklearn.metrics import accuracy_score\n",
    "from gensim.models import Word2Vec\n",
    "from torch_geometric.utils import to_networkx\n",
    "from torch_geometric.datasets import Planetoid"
   ]
  },
  {
   "cell_type": "markdown",
   "metadata": {},
   "source": [
    "# Prepare data"
   ]
  },
  {
   "cell_type": "code",
   "execution_count": 2,
   "metadata": {},
   "outputs": [],
   "source": [
    "dataset = Planetoid('./data', 'Cora')\n",
    "data = dataset[0]\n",
    "data_nx = to_networkx(data)"
   ]
  },
  {
   "cell_type": "markdown",
   "metadata": {},
   "source": [
    "# Task 1 Node2Vec"
   ]
  },
  {
   "cell_type": "code",
   "execution_count": 3,
   "metadata": {},
   "outputs": [],
   "source": [
    "def node2vec_once(G, start_node, walk_length, p, q):\n",
    "    walk = [start_node]\n",
    "    current_node = start_node\n",
    "    previous_node = None\n",
    "\n",
    "    for _ in range(walk_length - 1):\n",
    "\n",
    "        neighbors = set(G.neighbors(current_node))\n",
    "        idx2neighbor = list(neighbors)\n",
    "        neighbor2idx = {v: k for (k, v) in enumerate(idx2neighbor)}\n",
    "\n",
    "        if previous_node is None:\n",
    "            probabilities = np.ones(len(neighbors)) / len(neighbors)\n",
    "        else:\n",
    "            neighbor_prev = set(G.neighbors(previous_node))\n",
    "            probabilities = np.ones(len(neighbors)) / q\n",
    "\n",
    "            probabilities[neighbor2idx[previous_node]] = 1 / p\n",
    "            union_neighbor = [neighbor2idx[n] for n in (neighbor_prev & neighbors)]\n",
    "\n",
    "            probabilities[union_neighbor] = 1\n",
    "            probabilities = np.array(probabilities) / np.sum(probabilities)\n",
    "        previous_node = current_node\n",
    "        current_node = np.random.choice(idx2neighbor, p=probabilities)\n",
    "        walk.append(current_node)\n",
    "        \n",
    "    return walk\n",
    "\n",
    "\n",
    "def node2vec(G, num_walks, walk_length, p, q):\n",
    "    walks = []\n",
    "\n",
    "    for _ in tqdm(range(num_walks)):\n",
    "        for start_node in G.nodes():\n",
    "            walks.append(node2vec_once(G, start_node, walk_length, p, q))\n",
    "\n",
    "    return walks\n"
   ]
  },
  {
   "cell_type": "code",
   "execution_count": 4,
   "metadata": {},
   "outputs": [
    {
     "name": "stderr",
     "output_type": "stream",
     "text": [
      "100%|██████████| 100/100 [04:56<00:00,  2.96s/it]\n"
     ]
    }
   ],
   "source": [
    "# Takes about 5 mins\n",
    "walk_length = 30\n",
    "num_walks = 100 \n",
    "p, q = 0.5, 2\n",
    "node2vec_walks = node2vec(data_nx, num_walks, walk_length, p, q)"
   ]
  },
  {
   "cell_type": "code",
   "execution_count": 5,
   "metadata": {},
   "outputs": [],
   "source": [
    "# Takes about 40s\n",
    "dimensions = 100\n",
    "node2vec_model = Word2Vec(node2vec_walks, \n",
    "                          vector_size=dimensions, \n",
    "                          window=5, \n",
    "                          min_count=1, \n",
    "                          sg=1)\n",
    "node2vec_embeds = np.array([node2vec_model.wv[node] for node in data_nx])"
   ]
  },
  {
   "cell_type": "code",
   "execution_count": 6,
   "metadata": {},
   "outputs": [
    {
     "data": {
      "text/plain": [
       "(2708, 100)"
      ]
     },
     "execution_count": 6,
     "metadata": {},
     "output_type": "execute_result"
    }
   ],
   "source": [
    "node2vec_embeds.shape"
   ]
  },
  {
   "cell_type": "markdown",
   "metadata": {},
   "source": [
    "## Train MLP Classifier"
   ]
  },
  {
   "cell_type": "code",
   "execution_count": 7,
   "metadata": {},
   "outputs": [],
   "source": [
    "data.x = torch.tensor(node2vec_embeds)"
   ]
  },
  {
   "cell_type": "code",
   "execution_count": 8,
   "metadata": {},
   "outputs": [
    {
     "data": {
      "text/plain": [
       "Data(x=[2708, 100], edge_index=[2, 10556], y=[2708], train_mask=[2708], val_mask=[2708], test_mask=[2708])"
      ]
     },
     "execution_count": 8,
     "metadata": {},
     "output_type": "execute_result"
    }
   ],
   "source": [
    "data"
   ]
  },
  {
   "cell_type": "code",
   "execution_count": 9,
   "metadata": {},
   "outputs": [
    {
     "data": {
      "text/plain": [
       "(2437, 271)"
      ]
     },
     "execution_count": 9,
     "metadata": {},
     "output_type": "execute_result"
    }
   ],
   "source": [
    "N_train = data.x.shape[0] * 9 // 10\n",
    "all_samples = list(range(data.x.shape[0]))\n",
    "random.shuffle(all_samples)\n",
    "train_samples = all_samples[:N_train]\n",
    "test_samples = all_samples[N_train:]\n",
    "len(train_samples), len(test_samples)"
   ]
  },
  {
   "cell_type": "code",
   "execution_count": 10,
   "metadata": {},
   "outputs": [
    {
     "data": {
      "text/plain": [
       "(torch.Size([2437, 100]),\n",
       " torch.Size([271, 100]),\n",
       " torch.Size([2437]),\n",
       " torch.Size([271]))"
      ]
     },
     "execution_count": 10,
     "metadata": {},
     "output_type": "execute_result"
    }
   ],
   "source": [
    "train_x, test_x = data.x[train_samples, :], data.x[test_samples, :]\n",
    "train_y, test_y = data.y[train_samples], data.y[test_samples]\n",
    "train_x.shape, test_x.shape, train_y.shape, test_y.shape"
   ]
  },
  {
   "cell_type": "code",
   "execution_count": 52,
   "metadata": {},
   "outputs": [],
   "source": [
    "class MLP(torch.nn.Module):\n",
    "    def __init__(self, input_dim, hidden_dim, output_dim):\n",
    "        super().__init__()\n",
    "        self.fc1 = torch.nn.Linear(input_dim, hidden_dim)\n",
    "        self.fc2 = torch.nn.Linear(hidden_dim, hidden_dim)\n",
    "        self.fc3 = torch.nn.Linear(hidden_dim, output_dim)\n",
    "        self.act = torch.nn.ReLU()\n",
    "    \n",
    "    def forward(self, x):\n",
    "        x = self.fc1(x)\n",
    "        x = self.act(x)\n",
    "        x = self.fc2(x)\n",
    "        x = self.act(x)\n",
    "        x = self.fc3(x)\n",
    "        return x"
   ]
  },
  {
   "cell_type": "code",
   "execution_count": 48,
   "metadata": {},
   "outputs": [],
   "source": [
    "input_dim = data.x.shape[1]\n",
    "hidden_dim = 128\n",
    "output_dim = data.y.unique().shape[0]\n",
    "\n",
    "model = MLP(input_dim, hidden_dim, output_dim)\n",
    "optimizer = optim.Adam(model.parameters(), lr=1e-2)\n",
    "lr_schedule = torch.optim.lr_scheduler.ExponentialLR(optimizer, gamma=0.99)\n",
    "\n",
    "loss_fn = nn.CrossEntropyLoss()"
   ]
  },
  {
   "cell_type": "code",
   "execution_count": 53,
   "metadata": {},
   "outputs": [
    {
     "name": "stdout",
     "output_type": "stream",
     "text": [
      "MLP(\n",
      "  (fc1): Linear(in_features=100, out_features=128, bias=True)\n",
      "  (fc2): Linear(in_features=128, out_features=128, bias=True)\n",
      "  (fc3): Linear(in_features=128, out_features=7, bias=True)\n",
      "  (act): ReLU()\n",
      ")\n"
     ]
    }
   ],
   "source": [
    "print(model)"
   ]
  },
  {
   "cell_type": "code",
   "execution_count": 50,
   "metadata": {},
   "outputs": [
    {
     "name": "stderr",
     "output_type": "stream",
     "text": [
      "100%|██████████| 1000/1000 [00:09<00:00, 110.22it/s]\n"
     ]
    }
   ],
   "source": [
    "epochs = 1000\n",
    "for epoch in tqdm(range(epochs)):\n",
    "    model.train()\n",
    "    optimizer.zero_grad()\n",
    "\n",
    "    logits = model(train_x)\n",
    "    loss = loss_fn(logits, train_y)\n",
    "\n",
    "    loss.backward()\n",
    "    optimizer.step()\n",
    "    lr_schedule.step()"
   ]
  },
  {
   "cell_type": "code",
   "execution_count": 51,
   "metadata": {},
   "outputs": [
    {
     "name": "stdout",
     "output_type": "stream",
     "text": [
      "0.8671586715867159\n"
     ]
    }
   ],
   "source": [
    "model.eval()\n",
    "with torch.no_grad():\n",
    "    pred = model(test_x).argmax(dim=1)\n",
    "accuracy = accuracy_score(test_y, pred)\n",
    "print(accuracy)"
   ]
  },
  {
   "cell_type": "markdown",
   "metadata": {},
   "source": [
    "# Task 2 Other Classifiers"
   ]
  },
  {
   "cell_type": "code",
   "execution_count": 16,
   "metadata": {},
   "outputs": [],
   "source": [
    "from sklearn.svm import SVC \n",
    "from sklearn.neighbors import KNeighborsClassifier"
   ]
  },
  {
   "cell_type": "code",
   "execution_count": 17,
   "metadata": {},
   "outputs": [
    {
     "name": "stdout",
     "output_type": "stream",
     "text": [
      "0.8634686346863468\n"
     ]
    }
   ],
   "source": [
    "svc = SVC()\n",
    "svc.fit(train_x.detach().numpy(), train_y.detach().numpy())\n",
    "pred_svc = svc.predict(test_x.detach().numpy())\n",
    "accuracy = accuracy_score(test_y, pred_svc)\n",
    "print(accuracy)"
   ]
  },
  {
   "cell_type": "code",
   "execution_count": 18,
   "metadata": {},
   "outputs": [
    {
     "name": "stdout",
     "output_type": "stream",
     "text": [
      "0.8487084870848709\n"
     ]
    }
   ],
   "source": [
    "knn = KNeighborsClassifier()\n",
    "knn.fit(train_x.detach().numpy(), train_y.detach().numpy())\n",
    "pred_knn = knn.predict(test_x.detach().numpy())\n",
    "accuracy = accuracy_score(test_y, pred_knn)\n",
    "print(accuracy)"
   ]
  },
  {
   "cell_type": "markdown",
   "metadata": {},
   "source": [
    "在使用Node2Vec特征进行分类时，MLP、SVC、kNN的性能相近，且都能达到80%以上，表明Node2Vec提取的特征在这个数据集上用于分类任务是合适的\n",
    "\n",
    "继续增加MLP的训练轮数，指标也不会有显著增加，表明87%左右可能是此时利用Node2Vec提取特征进行分类的一个上限"
   ]
  }
 ],
 "metadata": {
  "kernelspec": {
   "display_name": "gomoku",
   "language": "python",
   "name": "python3"
  },
  "language_info": {
   "codemirror_mode": {
    "name": "ipython",
    "version": 3
   },
   "file_extension": ".py",
   "mimetype": "text/x-python",
   "name": "python",
   "nbconvert_exporter": "python",
   "pygments_lexer": "ipython3",
   "version": "3.7.13"
  }
 },
 "nbformat": 4,
 "nbformat_minor": 2
}
