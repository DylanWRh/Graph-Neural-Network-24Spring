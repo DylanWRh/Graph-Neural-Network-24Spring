{
 "cells": [
  {
   "cell_type": "code",
   "execution_count": 47,
   "metadata": {},
   "outputs": [],
   "source": [
    "import random\n",
    "import torch\n",
    "from torch_geometric.data import Data"
   ]
  },
  {
   "cell_type": "code",
   "execution_count": 48,
   "metadata": {},
   "outputs": [],
   "source": [
    "def influence_maximization(graph:Data, k):\n",
    "    seeds = []\n",
    "    cur_reward = 0\n",
    "    for _ in range(k):\n",
    "        max_increase = 0\n",
    "        node_to_add = None\n",
    "        for node in range(graph.x.shape[0]):\n",
    "            if node not in seeds:\n",
    "                increase = simulate_cascade(graph, seeds + [node]) - cur_reward\n",
    "                if increase > max_increase:\n",
    "                    max_increase = increase\n",
    "                    node_to_add = node\n",
    "        \n",
    "        seeds.append(node_to_add)        \n",
    "        cur_reward += max_increase\n",
    "    return seeds\n",
    "\n",
    "def simulate_cascade(graph:Data, seeds, max_iter=100):\n",
    "    influenced = set(seeds)\n",
    "    new_influenced = set(seeds)\n",
    "    for _ in range(max_iter):\n",
    "        if not new_influenced:\n",
    "            break\n",
    "        new_influenced = set()\n",
    "        for node in new_influenced:\n",
    "            neighs_index = torch.where(graph.edge_index[0]==node)\n",
    "            neighs = graph.edge_index[:, neighs_index][1]\n",
    "            probs = graph.edge_attr[neighs_index][0]\n",
    "            for (neigh, prob) in zip(neighs, probs):\n",
    "                if neigh.item() not in influenced and random.random() < prob.item():\n",
    "                    new_influenced.add(neigh.item())\n",
    "        influenced.update(new_influenced)\n",
    "    return len(influenced)"
   ]
  },
  {
   "cell_type": "code",
   "execution_count": 49,
   "metadata": {},
   "outputs": [],
   "source": [
    "edges = torch.tensor([\n",
    "    [0, 1, 0.6], [1, 0, 0.6], [0, 2, 0.3], [0, 4, 0.4], \n",
    "    [2, 1, 0.2], [3, 1, 0.2], [3, 2, 0.1], [4, 2, 0.5],\n",
    "    [4, 3, 0.3], [4, 5, 0.5], [5, 4, 0.5], [3, 5, 0.2],\n",
    "    [5, 3, 0.2]\n",
    "])\n",
    "edges_index = edges[:, :2].T\n",
    "edge_attr = edges[:, [-1]]\n",
    "graph = Data(x=torch.arange(6), edge_index=edges_index, edge_attr=edge_attr)"
   ]
  },
  {
   "cell_type": "code",
   "execution_count": 50,
   "metadata": {},
   "outputs": [
    {
     "data": {
      "text/plain": [
       "[0, 1]"
      ]
     },
     "execution_count": 50,
     "metadata": {},
     "output_type": "execute_result"
    }
   ],
   "source": [
    "influence_maximization(graph, 2)"
   ]
  },
  {
   "cell_type": "code",
   "execution_count": null,
   "metadata": {},
   "outputs": [],
   "source": []
  }
 ],
 "metadata": {
  "kernelspec": {
   "display_name": "gomoku",
   "language": "python",
   "name": "python3"
  },
  "language_info": {
   "codemirror_mode": {
    "name": "ipython",
    "version": 3
   },
   "file_extension": ".py",
   "mimetype": "text/x-python",
   "name": "python",
   "nbconvert_exporter": "python",
   "pygments_lexer": "ipython3",
   "version": "3.7.13"
  }
 },
 "nbformat": 4,
 "nbformat_minor": 2
}
